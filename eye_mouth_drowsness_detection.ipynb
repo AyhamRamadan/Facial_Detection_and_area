{
  "nbformat": 4,
  "nbformat_minor": 0,
  "metadata": {
    "colab": {
      "name": "eye_mouth_drowsness_detection.ipynb",
      "provenance": [],
      "collapsed_sections": []
    },
    "kernelspec": {
      "name": "python3",
      "display_name": "Python 3"
    },
    "language_info": {
      "name": "python"
    }
  },
  "cells": [
    {
      "cell_type": "code",
      "execution_count": 4,
      "metadata": {
        "id": "tOBDLqF7uqAe"
      },
      "outputs": [],
      "source": [
        "# import the necessary packages\n",
        "from scipy.spatial import distance as dist\n",
        "from imutils.video import VideoStream\n",
        "from imutils import face_utils\n",
        "from threading import Thread\n",
        "import numpy as np\n",
        "import argparse\n",
        "import imutils\n",
        "import time\n",
        "import dlib\n",
        "import cv2"
      ]
    },
    {
      "cell_type": "code",
      "source": [
        "def findArea(a, b):\n",
        "     \n",
        "    # formula to find the\n",
        "    # area of an Ellipse.\n",
        "    Area = 3.142 * a * b ;\n",
        "     \n",
        "    # Display the result\n",
        "    return Area"
      ],
      "metadata": {
        "id": "6E7V4q2J6N-8"
      },
      "execution_count": 5,
      "outputs": []
    },
    {
      "cell_type": "code",
      "source": [
        "def mouth_aspect_ratio(mouth):\n",
        "    # compute the euclidean distances between the two sets of\n",
        "    # vertical mouth landmarks (x, y)-coordinates\n",
        "    A = dist.euclidean(mouth[2], mouth[10]) # 51, 59\n",
        "    B = dist.euclidean(mouth[4], mouth[8]) # 53, 57\n",
        "\n",
        "    # compute the euclidean distance between the horizontal\n",
        "    # mouth landmark (x, y)-coordinates\n",
        "    C = dist.euclidean(mouth[0], mouth[6]) # 49, 55\n",
        "\n",
        "    # compute the mouth aspect ratio\n",
        "    mar = (A + B) / (2.0 * C)\n",
        "    marea = findArea(A,C)\n",
        "    # return the mouth aspect ratio\n",
        "    return mar,marea"
      ],
      "metadata": {
        "id": "_-CQj1fayyFZ"
      },
      "execution_count": 9,
      "outputs": []
    },
    {
      "cell_type": "code",
      "source": [
        "def reye_aspect_ratio(eye):\n",
        "    # compute the euclidean distances between the two sets of\n",
        "    # vertical mouth landmarks (x, y)-coordinates\n",
        "    A = dist.euclidean(eye[2], eye[6]) # 38, 42\n",
        "    B = dist.euclidean(eye[3], eye[5]) # 39, 41\n",
        "    # compute the euclidean distance between the horizontal\n",
        "    # mouth landmark (x, y)-coordinates\n",
        "    C = dist.euclidean(mouth[0], mouth[3]) # 36, 40\n",
        "\n",
        "    # compute the mouth aspect ratio\n",
        "    mar = (A + B) / (2.0 * C)\n",
        "    marea = findArea(A,C)\n",
        "    # return the mouth aspect ratio\n",
        "    return mar,marea"
      ],
      "metadata": {
        "id": "0BDAaCny6nzB"
      },
      "execution_count": 11,
      "outputs": []
    },
    {
      "cell_type": "code",
      "source": [
        "def reye_aspect_ratio(eye):\n",
        "    # compute the euclidean distances between the two sets of\n",
        "    # vertical mouth landmarks (x, y)-coordinates\n",
        "    A = dist.euclidean(eye[1], eye[5]) # 44, 48\n",
        "    B = dist.euclidean(eye[3], eye[4]) # 45, 47\n",
        "    # compute the euclidean distance between the horizontal\n",
        "    # mouth landmark (x, y)-coordinates\n",
        "    C = dist.euclidean(mouth[0], mouth[3]) # 43, 46\n",
        "\n",
        "    # compute the mouth aspect ratio\n",
        "    mar = (A + B) / (2.0 * C)\n",
        "    marea = findArea(A,C)\n",
        "    # return the mouth aspect ratio\n",
        "    return mar,marea"
      ],
      "metadata": {
        "id": "anEUs6EM9HJa"
      },
      "execution_count": 12,
      "outputs": []
    },
    {
      "cell_type": "code",
      "source": [
        "from numpy.testing._private.utils import print_assert_equal\n",
        "# import the necessary packages\n",
        "from collections import OrderedDict\n",
        "import numpy as np\n",
        "import cv2\n",
        "import argparse\n",
        "import dlib\n",
        "import imutils\n",
        "\n",
        "facial_features_cordinates = {}\n",
        "\n",
        "# define a dictionary that maps the indexes of the facial\n",
        "# landmarks to specific face regions\n",
        "FACIAL_LANDMARKS_INDEXES = OrderedDict([\n",
        "    (\"Mouth\", (48, 68)),\n",
        "    (\"Right_Eye\", (36, 42)),\n",
        "    (\"Left_Eye\", (43, 48)),\n",
        "])\n",
        "\n",
        "# construct the argument parser and parse the arguments\n",
        "ap = argparse.ArgumentParser()\n",
        "ap.add_argument(\"-p\", \"--shape-predictor\", required=True,\n",
        "\thelp=\"/content/shape_predictor_68_face_landmarks.dat\")\n",
        "ap.add_argument(\"-i\", \"--image\", required=True,\n",
        "\thelp=\"path to input image\")\n",
        "args = vars(ap.parse_args())\n",
        "\n",
        "\n",
        "def shape_to_numpy_array(shape, dtype=\"int\"):\n",
        "    # initialize the list of (x, y)-coordinates\n",
        "    coordinates = np.zeros((68, 2), dtype=dtype)\n",
        "\n",
        "    # loop over the 68 facial landmarks and convert them\n",
        "    # to a 2-tuple of (x, y)-coordinates\n",
        "    for i in range(0, 68):\n",
        "        coordinates[i] = (shape.part(i).x, shape.part(i).y)\n",
        "\n",
        "    # return the list of (x, y)-coordinates\n",
        "    return coordinates\n",
        "\n",
        "\n",
        "def visualize_facial_landmarks(image, shape, colors=None, alpha=0.75):\n",
        "    # create two copies of the input image -- one for the\n",
        "    # overlay and one for the final output image\n",
        "    overlay = image.copy()\n",
        "    output = image.copy()\n",
        "    mar = 0\n",
        "    rear = 0 \n",
        "    lear = 0 \n",
        "    # if the colors list is None, initialize it with a unique\n",
        "    # color for each facial landmark region\n",
        "    if colors is None:\n",
        "        colors = [(19, 199, 109), (79, 76, 240), (230, 159, 23)\n",
        "                  ]\n",
        "\n",
        "    # loop over the facial landmark regions individually\n",
        "    for (i, name) in enumerate(FACIAL_LANDMARKS_INDEXES.keys()):\n",
        "        # grab the (x, y)-coordinates associated with the\n",
        "        # face landmark\n",
        "        (j, k) = FACIAL_LANDMARKS_INDEXES[name]\n",
        "        pts = shape[j:k]\n",
        "        facial_features_cordinates[name] = pts\n",
        "\n",
        "        # check if are supposed to draw the jawline\n",
        "        if name == \"Mouth\":\n",
        "            # since the jawline is a non-enclosed facial region,\n",
        "            # just draw lines between the (x, y)-coordinates\n",
        "            mar,marea = mouth_aspect_ratio(pts)\n",
        "            print(\"Mouth Area : \"+str(marea))\n",
        "        elif name == \"Right_Eye\":\n",
        "          rear,marea = reye_aspect_ratio(pts)\n",
        "          print(\"Right Eye Area : \"+str(marea))\n",
        "\n",
        "        # otherwise, compute the convex hull of the facial\n",
        "        # landmark coordinates points and display it\n",
        "        else :\n",
        "          lear,marea = Lreye_aspect_ratio(pts)\n",
        "          print(\"Left Eye Area : \"+str(marea))\n",
        "        hull = cv2.convexHull(pts)\n",
        "        cv2.drawContours(overlay, [hull], -1, colors[i], -1)\n",
        "\n",
        "    # apply the transparent overlay\n",
        "    cv2.addWeighted(overlay, alpha, output, 1 - alpha, 0, output)\n",
        "\n",
        "    # return the output image\n",
        "    print(facial_features_cordinates)\n",
        "    return output,mar,rear,lear\n",
        "\n",
        "# initialize dlib's face detector (HOG-based) and then create\n",
        "# the facial landmark predictor\n",
        "detector = dlib.get_frontal_face_detector()\n",
        "predictor = dlib.shape_predictor(args[\"shape_predictor\"])\n",
        "\n",
        "# load the input image, resize it, and convert it to grayscale\n",
        "image = cv2.imread(args[\"image\"])\n",
        "image = imutils.resize(image, width=500)\n",
        "gray = cv2.cvtColor(image, cv2.COLOR_BGR2GRAY)\n",
        "\n",
        "# detect faces in the grayscale image\n",
        "rects = detector(gray, 1)\n",
        "\n",
        "# loop over the face detections\n",
        "for (i, rect) in enumerate(rects):\n",
        "    # determine the facial landmarks for the face region, then\n",
        "    # convert the landmark (x, y)-coordinates to a NumPy array\n",
        "    shape = predictor(gray, rect)\n",
        "    shape = shape_to_numpy_array(shape)\n",
        "\n",
        "    output,mar,lear,rear = visualize_facial_landmarks(image, shape)\n",
        "    if (mar >0.75) and (lear < 0.3) and (rear < 0.3) :\n",
        "      print(\"that perosn is sleeping\")\n",
        "    cv2.imshow(\"Image\", output)\n",
        "    cv2.waitKey(0)"
      ],
      "metadata": {
        "colab": {
          "base_uri": "https://localhost:8080/",
          "height": 190
        },
        "id": "D-GshgnjusaE",
        "outputId": "d9e4e642-8371-4b68-b3cc-fada6fdcd454"
      },
      "execution_count": 1,
      "outputs": [
        {
          "output_type": "stream",
          "name": "stderr",
          "text": [
            "usage: ipykernel_launcher.py [-h] [-p SHAPE_PREDICTOR] [-w WEBCAM]\n",
            "ipykernel_launcher.py: error: unrecognized arguments: -f /root/.local/share/jupyter/runtime/kernel-c319b863-d0b2-46f8-a83f-3d602aa199ab.json\n"
          ]
        },
        {
          "output_type": "error",
          "ename": "SystemExit",
          "evalue": "ignored",
          "traceback": [
            "An exception has occurred, use %tb to see the full traceback.\n",
            "\u001b[0;31mSystemExit\u001b[0m\u001b[0;31m:\u001b[0m 2\n"
          ]
        },
        {
          "output_type": "stream",
          "name": "stderr",
          "text": [
            "/usr/local/lib/python3.7/dist-packages/IPython/core/interactiveshell.py:2890: UserWarning: To exit: use 'exit', 'quit', or Ctrl-D.\n",
            "  warn(\"To exit: use 'exit', 'quit', or Ctrl-D.\", stacklevel=1)\n"
          ]
        }
      ]
    },
    {
      "cell_type": "code",
      "source": [
        ""
      ],
      "metadata": {
        "id": "nWKSKXQuyk5I"
      },
      "execution_count": null,
      "outputs": []
    }
  ]
}